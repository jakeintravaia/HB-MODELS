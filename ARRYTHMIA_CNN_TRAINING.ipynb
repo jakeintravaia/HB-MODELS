{
 "cells": [
  {
   "cell_type": "code",
   "execution_count": 2,
   "id": "f67433e7",
   "metadata": {},
   "outputs": [],
   "source": [
    "import os\n",
    "import numpy as np\n",
    "from tensorflow.python.keras.callbacks import TensorBoard\n",
    "from time import time\n",
    "x_files = os.listdir(\"BIG_DATASET/XDATA\")\n",
    "y_files = os.listdir(f\"BIG_DATASET/YDATA\")"
   ]
  },
  {
   "cell_type": "code",
   "execution_count": 4,
   "id": "3e8ce147",
   "metadata": {},
   "outputs": [
    {
     "name": "stdout",
     "output_type": "stream",
     "text": [
      "INFO:tensorflow:Using MirroredStrategy with devices ('/job:localhost/replica:0/task:0/device:GPU:0',)\n"
     ]
    }
   ],
   "source": [
    "import tensorflow as tf\n",
    "from tensorflow.keras.optimizers import *\n",
    "\n",
    "# Solve OOM errors\n",
    "gpus = tf.config.experimental.list_physical_devices('GPU')\n",
    "\n",
    "for gpu in gpus:\n",
    "    tf.config.experimental.set_memory_growth(gpu, True)\n",
    "# Set up the CPU and GPU devices\n",
    "strategy = tf.distribute.MirroredStrategy()\n",
    "\n",
    "with tf.device('/CPU:0'):\n",
    "    X = np.load(\"BIG_DATASET/XDATA/\" + x_files[0])\n",
    "    y = np.load(f\"BIG_DATASET/YDATA/\" + y_files[0], allow_pickle=True)"
   ]
  },
  {
   "cell_type": "code",
   "execution_count": 3,
   "id": "c2f36edc",
   "metadata": {},
   "outputs": [],
   "source": [
    "with tf.device('/CPU:0'):\n",
    "\n",
    "    model = tf.keras.Sequential([\n",
    "        tf.keras.layers.Input(shape=(5000, 12, 1)),\n",
    "        tf.keras.layers.Masking(mask_value=-10),\n",
    "        tf.keras.layers.Conv2D(filters=32, kernel_size=(3, 3), activation='relu'),\n",
    "        tf.keras.layers.MaxPooling2D(pool_size=(2, 2)),\n",
    "        tf.keras.layers.Flatten(),\n",
    "        tf.keras.layers.Dense(units=32, activation='relu'),\n",
    "        tf.keras.layers.Dense(units=2, activation='softmax')\n",
    "    ])\n",
    "\n",
    "    # Compile the modelz\n",
    "    model.compile(optimizer=Adam(learning_rate=0.00001), loss='binary_crossentropy', metrics=['accuracy'])\n",
    "    #tensorboard = TensorBoard(log_dir=\"LOGS/{}\".format(time()))"
   ]
  },
  {
   "cell_type": "code",
   "execution_count": 4,
   "id": "6f8ce23d",
   "metadata": {},
   "outputs": [],
   "source": [
    "import numpy as np\n",
    "with tf.device('/CPU:0'):\n",
    "    def data_generator(x_file_list, y_file_list, batch_size):\n",
    "        while True:\n",
    "            for x_file, y_file in zip(x_file_list, y_file_list):\n",
    "                # Load x and y data from numpy files\n",
    "                x_data = np.load(x_file, allow_pickle=True)\n",
    "                y_data = np.load(y_file, allow_pickle=True)\n",
    "\n",
    "                y_data_onehot = tf.keras.utils.to_categorical(y_data, num_classes=2)\n",
    "                # Create a binary mask for NaN values\n",
    "                mask = ~np.isnan(x_data)\n",
    "\n",
    "                # Apply the mask to x_data\n",
    "                x_data = np.where(mask, x_data, -10)\n",
    "                \n",
    "                # Split data into batches\n",
    "                num_batches = len(x_data) // batch_size\n",
    "                for i in range(num_batches):\n",
    "                    batch_x = x_data[i * batch_size : (i + 1) * batch_size]\n",
    "                    batch_y = y_data_onehot[i * batch_size : (i + 1) * batch_size]\n",
    "                    yield batch_x, batch_y"
   ]
  },
  {
   "cell_type": "code",
   "execution_count": 5,
   "id": "dcacb96d",
   "metadata": {},
   "outputs": [],
   "source": [
    "train_x_files = os.listdir(\"BIG_DATASET/XDATA\")\n",
    "train_y_files = os.listdir(\"BIG_DATASET/YDATA\")"
   ]
  },
  {
   "cell_type": "code",
   "execution_count": 6,
   "id": "a3db9921",
   "metadata": {},
   "outputs": [],
   "source": [
    "for i in range(0, len(train_x_files)):\n",
    "    train_x_files[i] = \"BIG_DATASET/XDATA/\" + train_x_files[i]\n",
    "\n",
    "for i in range(0, len(train_y_files)):\n",
    "    train_y_files[i] = f\"BIG_DATASET/YDATA/\" + train_y_files[i]"
   ]
  },
  {
   "cell_type": "code",
   "execution_count": 7,
   "id": "33703cfa",
   "metadata": {},
   "outputs": [
    {
     "name": "stdout",
     "output_type": "stream",
     "text": [
      "Done loading XVALIDATION files.\n"
     ]
    }
   ],
   "source": [
    "# X VALIDATION SET\n",
    "with tf.device('/CPU:0'):\n",
    "    xval = np.load('BIG_DATASET/XVALIDATE/data-0.npy')\n",
    "    mask = ~np.isnan(xval)\n",
    "    xval = np.where(mask, xval, -10)\n",
    "    for i in range(1, 90):\n",
    "        x = np.load(f'BIG_DATASET/XVALIDATE/data-{i}.npy')\n",
    "        mask = ~np.isnan(x)\n",
    "        x = np.where(mask, x, -10)\n",
    "        xval = np.concatenate((xval, x), axis=0)\n",
    "    print(\"Done loading XVALIDATION files.\")"
   ]
  },
  {
   "cell_type": "code",
   "execution_count": 8,
   "id": "5d00ed7d",
   "metadata": {},
   "outputs": [
    {
     "name": "stdout",
     "output_type": "stream",
     "text": [
      "Done loading YVALIDATION files.\n"
     ]
    },
    {
     "data": {
      "text/plain": [
       "array([1., 0.], dtype=float32)"
      ]
     },
     "execution_count": 8,
     "metadata": {},
     "output_type": "execute_result"
    }
   ],
   "source": [
    "# Y VALIDATION SET\n",
    "with tf.device('/CPU:0'):\n",
    "    yval = np.load(f'BIG_DATASET/YVALIDATE/data-0.npy')\n",
    "\n",
    "    for i in range(1, 90):\n",
    "        y = np.load(f'BIG_DATASET/YVALIDATE/data-{i}.npy')\n",
    "        yval = np.concatenate((yval, y), axis=0)\n",
    "    yval = tf.keras.utils.to_categorical(yval, num_classes=2)\n",
    "    print(\"Done loading YVALIDATION files.\")"
   ]
  },
  {
   "cell_type": "code",
   "execution_count": null,
   "id": "edb48e9a",
   "metadata": {},
   "outputs": [
    {
     "name": "stdout",
     "output_type": "stream",
     "text": [
      "15465/40500 [==========>...................] - ETA: 25:44 - loss: 0.2356 - accuracy: 0.9097"
     ]
    }
   ],
   "source": [
    "batch_size = 100 # Batch size\n",
    "with tf.device('/CPU:0'):\n",
    "    train_generator = data_generator(train_x_files, train_y_files, batch_size)\n",
    "    steps_per_epoch = len(train_x_files) * len(train_y_files) * 500 // batch_size\n",
    "\n",
    "with tf.device('/GPU:0'):\n",
    "    model.fit(train_generator, steps_per_epoch=steps_per_epoch, validation_data=(xval, yval), epochs=1)"
   ]
  },
  {
   "cell_type": "code",
   "execution_count": 10,
   "id": "b636f671",
   "metadata": {},
   "outputs": [],
   "source": [
    "model.save('BIG_DATASET/CNNS/CNN_SB.h5')"
   ]
  },
  {
   "cell_type": "code",
   "execution_count": 42,
   "id": "4c49f3c7",
   "metadata": {},
   "outputs": [],
   "source": [
    "model = tf.keras.models.load_model(\"BIG_DATASET/CNNS/CNN_AF_SOFTMAX.h5\")"
   ]
  },
  {
   "cell_type": "code",
   "execution_count": 43,
   "id": "362f53c3",
   "metadata": {},
   "outputs": [],
   "source": [
    "from keras.utils.vis_utils import plot_model\n",
    "import visualkeras\n",
    "\n",
    "visualkeras.layered_view(model).show() # display using your system viewer\n"
   ]
  },
  {
   "cell_type": "code",
   "execution_count": 11,
   "id": "1de8185b",
   "metadata": {},
   "outputs": [],
   "source": [
    "with tf.device(\"/CPU:0\"):\n",
    "    xtest = np.load('BIG_DATASET/XTEST/data-0.npy')\n",
    "\n",
    "    for i in range(1, 90):\n",
    "        x = np.load(f'BIG_DATASET/XTEST/data-{i}.npy')\n",
    "        mask = ~np.isnan(x)\n",
    "        x = np.where(mask, x, -10)\n",
    "        xtest = np.concatenate((xtest, x), axis=0)"
   ]
  },
  {
   "cell_type": "code",
   "execution_count": 12,
   "id": "7d4ba62f",
   "metadata": {},
   "outputs": [],
   "source": [
    "with tf.device(\"/CPU:0\"):\n",
    "    ytest = np.load(f'BIG_DATASET/YTEST/data-0.npy', allow_pickle=True)\n",
    "\n",
    "    for i in range(1, 90):\n",
    "        y = np.load(f'BIG_DATASET/YTEST/data-{i}.npy', allow_pickle=True)\n",
    "        ytest = np.concatenate((ytest, y), axis=0)\n",
    "    ytest = tf.keras.utils.to_categorical(ytest, num_classes=2)"
   ]
  },
  {
   "cell_type": "code",
   "execution_count": 13,
   "id": "d58f9913",
   "metadata": {
    "scrolled": true
   },
   "outputs": [
    {
     "name": "stdout",
     "output_type": "stream",
     "text": [
      "225/225 [==============================] - 10s 44ms/step - loss: 0.1826 - accuracy: 0.9735\n",
      "Test Accuracy: 0.9734722375869751\n"
     ]
    }
   ],
   "source": [
    "with tf.device(\"/CPU:0\"):\n",
    "    # Evaluate the model on test data\n",
    "    test_loss, test_acc = model.evaluate(xval, yval)\n",
    "    print('Test Accuracy:', test_acc)"
   ]
  },
  {
   "cell_type": "code",
   "execution_count": 67,
   "id": "15ee87f0",
   "metadata": {},
   "outputs": [],
   "source": [
    "unique,counts = np.unique(yval, return_counts=True)"
   ]
  },
  {
   "cell_type": "code",
   "execution_count": 69,
   "id": "d466ec2a",
   "metadata": {},
   "outputs": [
    {
     "data": {
      "text/plain": [
       "array([2500], dtype=int64)"
      ]
     },
     "execution_count": 69,
     "metadata": {},
     "output_type": "execute_result"
    }
   ],
   "source": []
  },
  {
   "cell_type": "code",
   "execution_count": 32,
   "id": "bec7577b",
   "metadata": {},
   "outputs": [
    {
     "name": "stdout",
     "output_type": "stream",
     "text": [
      "Model: \"sequential\"\n",
      "_________________________________________________________________\n",
      " Layer (type)                Output Shape              Param #   \n",
      "=================================================================\n",
      " conv2d (Conv2D)             (None, 4998, 10, 32)      320       \n",
      "                                                                 \n",
      " max_pooling2d (MaxPooling2D  (None, 2499, 5, 32)      0         \n",
      " )                                                               \n",
      "                                                                 \n",
      " flatten (Flatten)           (None, 399840)            0         \n",
      "                                                                 \n",
      " dense (Dense)               (None, 32)                12794912  \n",
      "                                                                 \n",
      " dense_1 (Dense)             (None, 1)                 33        \n",
      "                                                                 \n",
      "=================================================================\n",
      "Total params: 12,795,265\n",
      "Trainable params: 12,795,265\n",
      "Non-trainable params: 0\n",
      "_________________________________________________________________\n"
     ]
    }
   ],
   "source": [
    "model.summary()"
   ]
  },
  {
   "cell_type": "code",
   "execution_count": null,
   "id": "81ebbf09",
   "metadata": {},
   "outputs": [],
   "source": []
  }
 ],
 "metadata": {
  "kernelspec": {
   "display_name": "Python 3 (ipykernel)",
   "language": "python",
   "name": "python3"
  },
  "language_info": {
   "codemirror_mode": {
    "name": "ipython",
    "version": 3
   },
   "file_extension": ".py",
   "mimetype": "text/x-python",
   "name": "python",
   "nbconvert_exporter": "python",
   "pygments_lexer": "ipython3",
   "version": "3.9.0"
  }
 },
 "nbformat": 4,
 "nbformat_minor": 5
}
